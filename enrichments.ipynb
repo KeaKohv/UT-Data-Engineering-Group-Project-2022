{
 "cells": [
  {
   "cell_type": "code",
   "execution_count": 29,
   "metadata": {},
   "outputs": [
    {
     "name": "stdout",
     "output_type": "stream",
     "text": [
      "Full name, aff and gender search:\n",
      "Túlio Carvalho\n",
      "{'given': 'Túlio O.', 'family': 'Carvalho', 'affiliation': None, 'gender': 'None', 'full_name': 'None'}\n",
      "Full name, aff and gender search:\n",
      "César de Oliveira\n",
      "{'given': 'César R.', 'family': 'de Oliveira', 'affiliation': 'CDTN - Centro de Desenvolvimento da Tecnologia Nuclear', 'gender': 'None', 'full_name': 'Cezar Augusto de Oliveira'}\n",
      "Full name, aff and gender search:\n",
      "Kristian Kennaway\n",
      "{'given': 'Kristian D.', 'family': 'Kennaway', 'affiliation': 'Department of Physics, University of Toronto, 60 St. George St, Toronto, ON M5S 1A7, Canada', 'gender': 'None', 'full_name': 'None'}\n",
      "Full name, aff and gender search:\n",
      "J Field\n",
      "{'given': 'J. H.', 'family': 'Field', 'affiliation': 'Universidad Área Ándina', 'gender': 'None', 'full_name': 'Jesica Paola Vacca Velasco'}\n",
      "Full name, aff and gender search:\n",
      "Geetanjali Singh\n",
      "{'given': 'Geetanjali', 'family': 'Singh', 'affiliation': 'Geetanjali Institute of Pharmacy, Geetanjali University, Udaipur, Rajasthan', 'gender': 'male', 'full_name': 'Mahendra Singh Rathore'}\n",
      "Full name, aff and gender search:\n",
      "S Bhat\n",
      "{'given': 'S. V.', 'family': 'Bhat', 'affiliation': 'Tata Consultancy Services Limited', 'gender': 'male', 'full_name': 'Sanjay P. Bhat'}\n",
      "Full name, aff and gender search:\n",
      "Christian Boehmer\n",
      "{'given': 'Christian G.', 'family': 'Boehmer', 'affiliation': 'Department of Mathematics, University College London', 'gender': 'male', 'full_name': 'Christian G. Boehmer'}\n",
      "Full name, aff and gender search:\n",
      "Lukas Hollenstein\n",
      "{'given': 'Lukas', 'family': 'Hollenstein', 'affiliation': 'Zurich University of Applied Sciences', 'gender': 'male', 'full_name': 'Lukas Hollenstein'}\n",
      "Full name, aff and gender search:\n",
      "Francisco Lobo\n",
      "{'given': 'Francisco S. N.', 'family': 'Lobo', 'affiliation': 'University of Delaware', 'gender': 'None', 'full_name': 'Raul Francisco Lobo'}\n"
     ]
    }
   ],
   "source": [
    "import requests\n",
    "import pandas as pd\n",
    "from dags.enrich import enrich\n",
    "from dags.transforms import clean_dataframe\n",
    "\n",
    "r = requests.get(url='http://65.108.50.112:5000/data/arxiv')\n",
    "df = pd.json_normalize(r.json(), [\"result\"])\n",
    "\n",
    "df = clean_dataframe(df)\n",
    "df = enrich(df)"
   ]
  },
  {
   "cell_type": "code",
   "execution_count": 30,
   "metadata": {},
   "outputs": [
    {
     "data": {
      "text/html": [
       "<div>\n",
       "<style scoped>\n",
       "    .dataframe tbody tr th:only-of-type {\n",
       "        vertical-align: middle;\n",
       "    }\n",
       "\n",
       "    .dataframe tbody tr th {\n",
       "        vertical-align: top;\n",
       "    }\n",
       "\n",
       "    .dataframe thead th {\n",
       "        text-align: right;\n",
       "    }\n",
       "</style>\n",
       "<table border=\"1\" class=\"dataframe\">\n",
       "  <thead>\n",
       "    <tr style=\"text-align: right;\">\n",
       "      <th></th>\n",
       "      <th>id</th>\n",
       "      <th>versions</th>\n",
       "      <th>doi</th>\n",
       "      <th>title</th>\n",
       "      <th>type</th>\n",
       "      <th>publisher</th>\n",
       "      <th>is-referenced-by-count</th>\n",
       "      <th>container-title</th>\n",
       "      <th>subject</th>\n",
       "      <th>published-year</th>\n",
       "      <th>published-month</th>\n",
       "      <th>reference</th>\n",
       "      <th>authors_merged</th>\n",
       "    </tr>\n",
       "  </thead>\n",
       "  <tbody>\n",
       "    <tr>\n",
       "      <th>0</th>\n",
       "      <td>0706.1659</td>\n",
       "      <td>v1</td>\n",
       "      <td>10.1007/s10955-007-9299-8</td>\n",
       "      <td>Hybrid Quasicrystals, Transport and Localizati...</td>\n",
       "      <td>journal-article</td>\n",
       "      <td>Springer Science and Business Media LLC</td>\n",
       "      <td>0</td>\n",
       "      <td>Journal of Statistical Physics</td>\n",
       "      <td>Mathematical Physics</td>\n",
       "      <td>2007</td>\n",
       "      <td>5</td>\n",
       "      <td>[{'key': '9299_CR1', 'unstructured': 'P. Aless...</td>\n",
       "      <td>[{'given': 'Túlio O.', 'family': 'Carvalho', '...</td>\n",
       "    </tr>\n",
       "    <tr>\n",
       "      <th>1</th>\n",
       "      <td>0706.1660</td>\n",
       "      <td>v1</td>\n",
       "      <td>10.1142/s0217751x07036877</td>\n",
       "      <td>BRANE TILINGS</td>\n",
       "      <td>journal-article</td>\n",
       "      <td>World Scientific Pub Co Pte Lt</td>\n",
       "      <td>104</td>\n",
       "      <td>International Journal of Modern Physics A</td>\n",
       "      <td>Astronomy and Astrophysics</td>\n",
       "      <td>2007</td>\n",
       "      <td>7</td>\n",
       "      <td>[{'key': 'rf1', 'first-page': '033', 'volume':...</td>\n",
       "      <td>[{'given': 'Kristian D.', 'family': 'Kennaway'...</td>\n",
       "    </tr>\n",
       "    <tr>\n",
       "      <th>2</th>\n",
       "      <td>0706.1661</td>\n",
       "      <td>v3</td>\n",
       "      <td>10.1134/s1547477109040062</td>\n",
       "      <td>Quantum electrodynamics and experiment demonst...</td>\n",
       "      <td>journal-article</td>\n",
       "      <td>Pleiades Publishing Ltd</td>\n",
       "      <td>0</td>\n",
       "      <td>Physics of Particles and Nuclei Letters</td>\n",
       "      <td>Radiology, Nuclear Medicine and imaging</td>\n",
       "      <td>2009</td>\n",
       "      <td>7</td>\n",
       "      <td>[{'key': '7055_CR1', 'volume-title': 'Quantum ...</td>\n",
       "      <td>[{'given': 'J. H.', 'family': 'Field', 'affili...</td>\n",
       "    </tr>\n",
       "    <tr>\n",
       "      <th>3</th>\n",
       "      <td>0706.1662</td>\n",
       "      <td>v1</td>\n",
       "      <td>10.1007/s00723-015-0687-y</td>\n",
       "      <td>Temperature-Dependent Magnetic and EPR Studies...</td>\n",
       "      <td>journal-article</td>\n",
       "      <td>Springer Science and Business Media LLC</td>\n",
       "      <td>0</td>\n",
       "      <td>Applied Magnetic Resonance</td>\n",
       "      <td>Atomic and Molecular Physics, and Optics</td>\n",
       "      <td>2015</td>\n",
       "      <td>5</td>\n",
       "      <td>[{'key': '687_CR1', 'doi-asserted-by': 'crossr...</td>\n",
       "      <td>[{'given': 'Geetanjali', 'family': 'Singh', 'a...</td>\n",
       "    </tr>\n",
       "    <tr>\n",
       "      <th>4</th>\n",
       "      <td>0706.1663</td>\n",
       "      <td>v2</td>\n",
       "      <td>10.1142/9789814374552_0379</td>\n",
       "      <td>STABILITY OF THE EINSTEIN STATIC UNIVERSE IN M...</td>\n",
       "      <td>proceedings-article</td>\n",
       "      <td>WORLD SCIENTIFIC</td>\n",
       "      <td>3</td>\n",
       "      <td>The Twelfth Marcel Grossmann Meeting</td>\n",
       "      <td>None</td>\n",
       "      <td>2012</td>\n",
       "      <td>2</td>\n",
       "      <td>None</td>\n",
       "      <td>[{'given': 'Christian G.', 'family': 'Boehmer'...</td>\n",
       "    </tr>\n",
       "  </tbody>\n",
       "</table>\n",
       "</div>"
      ],
      "text/plain": [
       "          id  ...                                     authors_merged\n",
       "0  0706.1659  ...  [{'given': 'Túlio O.', 'family': 'Carvalho', '...\n",
       "1  0706.1660  ...  [{'given': 'Kristian D.', 'family': 'Kennaway'...\n",
       "2  0706.1661  ...  [{'given': 'J. H.', 'family': 'Field', 'affili...\n",
       "3  0706.1662  ...  [{'given': 'Geetanjali', 'family': 'Singh', 'a...\n",
       "4  0706.1663  ...  [{'given': 'Christian G.', 'family': 'Boehmer'...\n",
       "\n",
       "[5 rows x 13 columns]"
      ]
     },
     "execution_count": 30,
     "metadata": {},
     "output_type": "execute_result"
    }
   ],
   "source": [
    "df"
   ]
  },
  {
   "cell_type": "code",
   "execution_count": 28,
   "metadata": {},
   "outputs": [
    {
     "name": "stdout",
     "output_type": "stream",
     "text": [
      "{'affiliation': 'Duke University',\n",
      " 'family': 'Charbonneau',\n",
      " 'full_name': 'Patrick Charbonneau',\n",
      " 'gender': 'male',\n",
      " 'given': 'P.'}\n",
      "{'affiliation': 'Columbia University ',\n",
      " 'family': 'Reichman',\n",
      " 'full_name': 'David Reichman',\n",
      " 'gender': 'male',\n",
      " 'given': 'D. R.'}\n"
     ]
    }
   ],
   "source": [
    "for author in df['authors_merged'][3]:\n",
    "    pprint(author)"
   ]
  }
 ],
 "metadata": {
  "kernelspec": {
   "display_name": "Python 3.10.4 ('atm_2022')",
   "language": "python",
   "name": "python3"
  },
  "language_info": {
   "codemirror_mode": {
    "name": "ipython",
    "version": 3
   },
   "file_extension": ".py",
   "mimetype": "text/x-python",
   "name": "python",
   "nbconvert_exporter": "python",
   "pygments_lexer": "ipython3",
   "version": "3.10.4"
  },
  "orig_nbformat": 4,
  "vscode": {
   "interpreter": {
    "hash": "7f182084b941899f81698fb3b740c7166625a3245e0fe4789d0140e51bdb253f"
   }
  }
 },
 "nbformat": 4,
 "nbformat_minor": 2
}
